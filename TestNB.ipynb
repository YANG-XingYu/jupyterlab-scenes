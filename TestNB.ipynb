{
 "cells": [
  {
   "cell_type": "markdown",
   "id": "39b50600-cfc9-4ea0-9d27-5a62c34d3b0b",
   "metadata": {
    "tags": []
   },
   "source": [
    "# Heading 1"
   ]
  },
  {
   "cell_type": "code",
   "execution_count": 10,
   "id": "789ad392-b10f-429e-ae17-3b6ae3cf8334",
   "metadata": {
    "scene__Scene 01": true,
    "tags": []
   },
   "outputs": [],
   "source": [
    "# Sc01\n",
    "a = 1"
   ]
  },
  {
   "cell_type": "code",
   "execution_count": 11,
   "id": "1afc8b6f-0e4f-46fb-b8ca-4ac94906e69b",
   "metadata": {
    "scene__Scene 01": true,
    "tags": []
   },
   "outputs": [],
   "source": [
    "# Sc01\n",
    "b = 1"
   ]
  },
  {
   "cell_type": "code",
   "execution_count": 4,
   "id": "539030be-6899-4045-ab64-c4440998cb2d",
   "metadata": {
    "scene__Scene 02": true,
    "tags": []
   },
   "outputs": [],
   "source": [
    "# Sc02\n",
    "a = 2"
   ]
  },
  {
   "cell_type": "code",
   "execution_count": 5,
   "id": "7a835bac-c15a-4485-a007-8c5d8c970d51",
   "metadata": {
    "scene__Scene 02": true,
    "tags": []
   },
   "outputs": [],
   "source": [
    "# Sc02\n",
    "b = 2"
   ]
  },
  {
   "cell_type": "markdown",
   "id": "1abab191-9d60-47be-bac4-c44612f2bc67",
   "metadata": {
    "tags": []
   },
   "source": [
    "# Heading 2"
   ]
  },
  {
   "cell_type": "code",
   "execution_count": 12,
   "id": "97e41f25-a487-40ee-af92-51e9f99711af",
   "metadata": {
    "scene__Scene 01": true,
    "scene__Scene 02": true,
    "tags": []
   },
   "outputs": [
    {
     "name": "stdout",
     "output_type": "stream",
     "text": [
      "1 1\n"
     ]
    }
   ],
   "source": [
    "print(a, b)"
   ]
  },
  {
   "cell_type": "code",
   "execution_count": null,
   "id": "090c5db6-f686-4c52-813e-e613f3e20bda",
   "metadata": {},
   "outputs": [],
   "source": []
  }
 ],
 "metadata": {
  "kernelspec": {
   "display_name": "Python 3 (ipykernel)",
   "language": "python",
   "name": "python3"
  },
  "language_info": {
   "codemirror_mode": {
    "name": "ipython",
    "version": 3
   },
   "file_extension": ".py",
   "mimetype": "text/x-python",
   "name": "python",
   "nbconvert_exporter": "python",
   "pygments_lexer": "ipython3",
   "version": "3.10.0"
  },
  "scenes_data": {
   "active_scene": "Scene 02",
   "init_scene": "Scene 01",
   "scenes": [
    "Scene 01",
    "Scene 02"
   ]
  }
 },
 "nbformat": 4,
 "nbformat_minor": 5
}
